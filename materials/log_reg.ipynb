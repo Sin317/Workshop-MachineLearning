{
  "cells": [
    {
      "metadata": {
        "_uuid": "8f2839f25d086af736a60e9eeb907d3b93b6e0e5",
        "_cell_guid": "b1076dfc-b9ad-4769-8c92-a6c4dae69d19",
        "trusted": true
      },
      "cell_type": "code",
      "source": "# This Python 3 environment comes with many helpful analytics libraries installed\n# It is defined by the kaggle/python docker image: https://github.com/kaggle/docker-python\n# For example, here's several helpful packages to load in \n\nimport numpy as np # linear algebra\nimport pandas as pd # data processing, CSV file I/O (e.g. pd.read_csv)\n\n# Input data files are available in the \"../input/\" directory.\n# For example, running this (by clicking run or pressing Shift+Enter) will list the files in the input directory\n\nimport os\nprint(os.listdir(\"../input\"))\n\n# Any results you write to the current directory are saved as output.",
      "execution_count": null,
      "outputs": []
    },
    {
      "metadata": {
        "_cell_guid": "79c7e3d0-c299-4dcb-8224-4455121ee9b0",
        "_uuid": "d629ff2d2480ee46fbb7e2d37f6b5fab8052498a",
        "trusted": true
      },
      "cell_type": "code",
      "source": "import numpy as np\nimport pandas as pd\nimport seaborn as sns\nfrom pandas import Series,DataFrame\nimport matplotlib.pyplot as plt\n\ndata = pd.read_csv(\"../input/character-predictions.csv\")\n\ncult = {\n    'Summer Islands': ['summer islands', 'summer islander', 'summer isles'],\n    'Ghiscari': ['ghiscari', 'ghiscaricari',  'ghis'],\n    'Asshai': [\"asshai'i\", 'asshai'],\n    'Lysene': ['lysene', 'lyseni'],\n    'Andal': ['andal', 'andals'],\n    'Braavosi': ['braavosi', 'braavos'],\n    'Dornish': ['dornishmen', 'dorne', 'dornish'],\n    'Myrish': ['myr', 'myrish', 'myrmen'],\n    'Westermen': ['westermen', 'westerman', 'westerlands'],\n    'Westerosi': ['westeros', 'westerosi'],\n    'Stormlander': ['stormlands', 'stormlander'],\n    'Norvoshi': ['norvos', 'norvoshi'],\n    'Northmen': ['the north', 'northmen'],\n    'Free Folk': ['wildling', 'first men', 'free folk'],\n    'Qartheen': ['qartheen', 'qarth'],\n    'Reach': ['the reach', 'reach', 'reachmen'],\n}\n\ndef get_cult(value):\n    value = value.lower()\n    v = [k for (k, v) in cult.items() if value in v]\n    return v[0] if len(v) > 0 else value.title()\n\ndata.loc[:, \"culture\"] = [get_cult(x) for x in data.culture.fillna(\"\")]\n\n#-------- culture induction -------\n\n\ndatacopy = data.copy()\n\n\ndata.drop([\"name\", \"alive\", \"pred\", \"plod\", \"isAlive\", \"dateOfBirth\", \"DateoFdeath\"], 1, inplace = True)\n\n\ndata.loc[:, \"title\"] = pd.factorize(data.title)[0]\ndata.loc[:, \"culture\"] = pd.factorize(data.culture)[0]\ndata.loc[:, \"mother\"] = pd.factorize(data.mother)[0]\ndata.loc[:, \"father\"] = pd.factorize(data.father)[0]\ndata.loc[:, \"heir\"] = pd.factorize(data.heir)[0]\ndata.loc[:, \"house\"] = pd.factorize(data.house)[0]\ndata.loc[:, \"spouse\"] = pd.factorize(data.spouse)[0]\n\ndata.fillna(value = -1, inplace = True)\n''' $$ The code below usually works as a sample equilibrium. However in this case,\n this equilibirium actually decrease our accuracy, all because the original \nprediction data was released without any sample balancing. $$\n\ndata = data[data.actual == 0].sample(350, random_state = 62).append(data[data.actual == 1].sample(350, random_state = 62)).copy(deep = True).astype(np.float64)\n\n'''\nY = data.actual.values\n\nOdata = data.copy(deep=True)\n\ndata.drop([\"actual\"], 1, inplace = True)\n\n# sns.heatmap(data.corr(),annot=True,cmap='RdYlGn',linewidths=0.2) #data.corr()-->correlation matrix\n# fig=plt.gcf()\n# fig.set_size_inches(30,20)\n# plt.show()\n\n\nfrom sklearn.linear_model import LogisticRegression\n\nLR = LogisticRegression()\n\nLR.fit(data, Y)\n\n# plt.scatter(data.loc[:, \"house\"],Y)\n# plt.xlabel(\"Data\")\n# plt.ylabel(\"Prediction\")\n\nfor index,row in datacopy.iterrows():\n    if(Y[index] == 1):\n        survived = (datacopy.loc[:, \"name\"])\n# print(data.columns)\nprint(survived)\nsurvived.to_csv(\"../survived.csv\")\nprint('LogisticRegression Accuracy: ',LR.score(data, Y))\n",
      "execution_count": 30,
      "outputs": [
        {
          "output_type": "stream",
          "text": "/opt/conda/lib/python3.6/site-packages/sklearn/linear_model/logistic.py:433: FutureWarning: Default solver will be changed to 'lbfgs' in 0.22. Specify a solver to silence this warning.\n  FutureWarning)\n",
          "name": "stderr"
        },
        {
          "output_type": "stream",
          "text": "0       Viserys II Targaryen\n1                Walder Frey\n2               Addison Hill\n3                Aemma Arryn\n4             Sylva Santagar\n5           Tommen Baratheon\n6           Valarr Targaryen\n7        Viserys I Targaryen\n8                    Wilbert\n9             Wilbert Osgrey\n10                      Will\n11             Will (orphan)\n12             Will (squire)\n13          Will (Standfast)\n14               Will (Treb)\n15               Will Humble\n16                    Willam\n17              Willem Wylde\n18                  Willifer\n19                    Willit\n20               Willis Wode\n21               Willis Fell\n22             Willow Heddle\n23                    Willum\n24                    Wolmer\n25          Willow Witch-eye\n26                      Woth\n27                     Wulfe\n28          Wyl the Whittler\n29               Wyl (guard)\n                ...         \n1916        Tygett Lannister\n1917            Sarella Sand\n1918       Rhaegar Targaryen\n1919                   Drogo\n1920                  Dunsen\n1921                   Barra\n1922          Bethany Bolton\n1923           Desmond Grell\n1924          Devan Seaworth\n1925                  Gendry\n1926        Gran Goodbrother\n1927            Loras Tyrell\n1928                 Ricasso\n1929         Stalwart Shield\n1930              Yohn Royce\n1931                  Yandry\n1932                   Tarle\n1933                   Temmo\n1934          Rohanne Webber\n1935     Gormond Goodbrother\n1936           Walder Rivers\n1937     Symon Silver Tongue\n1938                 Moqorro\n1939                     Meg\n1940          Laena Velaryon\n1941                   Luwin\n1942                    Reek\n1943        Symeon Star-Eyes\n1944               Coldhands\n1945         Tytos Lannister\nName: name, Length: 1946, dtype: object\nLogisticRegression Accuracy:  0.7821171634121274\n",
          "name": "stdout"
        }
      ]
    },
    {
      "metadata": {
        "trusted": true,
        "_uuid": "f53a3cdb091724ad5f6875a50a2e67ebd2e09546"
      },
      "cell_type": "code",
      "source": "",
      "execution_count": null,
      "outputs": []
    },
    {
      "metadata": {
        "trusted": true,
        "_uuid": "6e4d9af5fa82a425b604751f40e50ecefd5b5dc6"
      },
      "cell_type": "code",
      "source": "",
      "execution_count": null,
      "outputs": []
    }
  ],
  "metadata": {
    "kernelspec": {
      "display_name": "Python 3",
      "language": "python",
      "name": "python3"
    },
    "language_info": {
      "name": "python",
      "version": "3.6.6",
      "mimetype": "text/x-python",
      "codemirror_mode": {
        "name": "ipython",
        "version": 3
      },
      "pygments_lexer": "ipython3",
      "nbconvert_exporter": "python",
      "file_extension": ".py"
    }
  },
  "nbformat": 4,
  "nbformat_minor": 1
}
