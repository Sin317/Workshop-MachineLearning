{
 "cells": [
  {
   "cell_type": "code",
   "execution_count": 1,
   "metadata": {
    "colab": {},
    "colab_type": "code",
    "id": "_R94vyl3kmu5"
   },
   "outputs": [],
   "source": [
    "%matplotlib inline\n",
    "import numpy as np\n",
    "import matplotlib.pyplot as plt\n",
    "from sklearn.datasets import load_iris\n",
    "import pandas as pd\n"
   ]
  },
  {
   "cell_type": "code",
   "execution_count": 2,
   "metadata": {
    "colab": {
     "base_uri": "https://localhost:8080/",
     "height": 204
    },
    "colab_type": "code",
    "id": "AIy8YxbKkyLq",
    "outputId": "a148bcca-0408-4762-cc03-d4a4badb2728"
   },
   "outputs": [
    {
     "data": {
      "text/html": [
       "<div>\n",
       "<style scoped>\n",
       "    .dataframe tbody tr th:only-of-type {\n",
       "        vertical-align: middle;\n",
       "    }\n",
       "\n",
       "    .dataframe tbody tr th {\n",
       "        vertical-align: top;\n",
       "    }\n",
       "\n",
       "    .dataframe thead th {\n",
       "        text-align: right;\n",
       "    }\n",
       "</style>\n",
       "<table border=\"1\" class=\"dataframe\">\n",
       "  <thead>\n",
       "    <tr style=\"text-align: right;\">\n",
       "      <th></th>\n",
       "      <th>sepal_length</th>\n",
       "      <th>sepal_width</th>\n",
       "      <th>petal_length</th>\n",
       "      <th>petal_width</th>\n",
       "    </tr>\n",
       "  </thead>\n",
       "  <tbody>\n",
       "    <tr>\n",
       "      <th>0</th>\n",
       "      <td>5.1</td>\n",
       "      <td>3.5</td>\n",
       "      <td>1.4</td>\n",
       "      <td>0.2</td>\n",
       "    </tr>\n",
       "    <tr>\n",
       "      <th>1</th>\n",
       "      <td>4.9</td>\n",
       "      <td>3.0</td>\n",
       "      <td>1.4</td>\n",
       "      <td>0.2</td>\n",
       "    </tr>\n",
       "    <tr>\n",
       "      <th>2</th>\n",
       "      <td>4.7</td>\n",
       "      <td>3.2</td>\n",
       "      <td>1.3</td>\n",
       "      <td>0.2</td>\n",
       "    </tr>\n",
       "    <tr>\n",
       "      <th>3</th>\n",
       "      <td>4.6</td>\n",
       "      <td>3.1</td>\n",
       "      <td>1.5</td>\n",
       "      <td>0.2</td>\n",
       "    </tr>\n",
       "    <tr>\n",
       "      <th>4</th>\n",
       "      <td>5.0</td>\n",
       "      <td>3.6</td>\n",
       "      <td>1.4</td>\n",
       "      <td>0.2</td>\n",
       "    </tr>\n",
       "  </tbody>\n",
       "</table>\n",
       "</div>"
      ],
      "text/plain": [
       "   sepal_length  sepal_width  petal_length  petal_width\n",
       "0           5.1          3.5           1.4          0.2\n",
       "1           4.9          3.0           1.4          0.2\n",
       "2           4.7          3.2           1.3          0.2\n",
       "3           4.6          3.1           1.5          0.2\n",
       "4           5.0          3.6           1.4          0.2"
      ]
     },
     "execution_count": 2,
     "metadata": {},
     "output_type": "execute_result"
    }
   ],
   "source": [
    "data = load_iris()\n",
    "\n",
    "df = pd.DataFrame(data.data, columns=[\"sepal_length\",\"sepal_width\",\"petal_length\",\"petal_width\"])\n",
    "df.head()"
   ]
  },
  {
   "cell_type": "code",
   "execution_count": 3,
   "metadata": {
    "colab": {},
    "colab_type": "code",
    "id": "oCoQTdcQqeec"
   },
   "outputs": [],
   "source": [
    "def calculate_loss(X,Y,theta):\n",
    "\n",
    "  return (1/(2*m))*np.sum((np.dot(X,theta.T)-Y)**2)\n",
    "\n",
    "def calculate_gradient(t0,t1,X,theta,learning_rate):\n",
    "  temp0 = (learning_rate/m)*np.sum(np.dot(X,theta.T)-Y) \n",
    "  temp1 = (learning_rate/m)*np.sum((np.dot(X,theta.T)-Y)*X)\n",
    "  t0 -= temp0\n",
    "  t1 -= temp1\n",
    "  return t0,t1\n",
    "\n",
    "def prepare_feature_matrix(df):\n",
    "  X=df.sepal_length.iloc[0:50].values.reshape(50,1)\n",
    "  Xnew=np.hstack((np.ones((50,1)),X))\n",
    "  return Xnew\n",
    "\n",
    "def prepare_target_vector(df):\n",
    "  return df.sepal_width.iloc[0:50].values.reshape(50,1)\n",
    "\n",
    "def predict(x,theta):\n",
    "  return theta[0,0] + theta[0,1]*x"
   ]
  },
  {
   "cell_type": "code",
   "execution_count": 4,
   "metadata": {
    "colab": {
     "base_uri": "https://localhost:8080/",
     "height": 311
    },
    "colab_type": "code",
    "id": "NSJKDsCqk3bA",
    "outputId": "f06dda77-e156-4e04-9f77-5cddb84ef1fb"
   },
   "outputs": [
    {
     "name": "stdout",
     "output_type": "stream",
     "text": [
      "Theta: [[1.76405235 0.40015721]]\n"
     ]
    },
    {
     "data": {
      "image/png": "[encoded data removed]",
      "text/plain": [
       "<Figure size 432x288 with 1 Axes>"
      ]
     },
     "metadata": {},
     "output_type": "display_data"
    }
   ],
   "source": [
    "\n",
    "m,n=df.shape\n",
    "\n",
    "\n",
    "\n",
    "X = prepare_feature_matrix(df)\n",
    "Y = prepare_target_vector(df)\n",
    "\n",
    "\n",
    "np.random.seed(0)\n",
    "theta=np.random.randn(1,2)\n",
    "print('Theta:',theta)\n",
    "\n",
    "iters=1000\n",
    "J=np.zeros(iters)\n",
    "learning_rate=0.001\n",
    "\n",
    "#training\n",
    "\n",
    "for i in range(iters):\n",
    "    J[i] = calculate_loss(X, Y, theta)\n",
    "    theta[0,0], theta[0,1] = calculate_gradient(theta[0,0], theta[0,1], X, theta, learning_rate)\n",
    "\n",
    "plt.plot(np.arange(iters),J)\n",
    "plt.xlabel('Number of iterations',color='red')\n",
    "plt.ylabel('Cost',color='red')\n",
    "plt.title('Cost vs iterations',color='green')\n",
    "plt.show()\n"
   ]
  },
  {
   "cell_type": "code",
   "execution_count": 5,
   "metadata": {
    "colab": {
     "base_uri": "https://localhost:8080/",
     "height": 311
    },
    "colab_type": "code",
    "id": "wePPuHC-mG7w",
    "outputId": "761c3bd9-7069-4a9d-ad8a-7beb0f2fbafc"
   },
   "outputs": [
    {
     "name": "stdout",
     "output_type": "stream",
     "text": [
      "Updated theta after Gradient Descent: [[1.75006012 0.33504113]]\n"
     ]
    },
    {
     "data": {
      "image/png": "[encoded data removed]",
      "text/plain": [
       "<Figure size 432x288 with 1 Axes>"
      ]
     },
     "metadata": {},
     "output_type": "display_data"
    }
   ],
   "source": [
    "print('Updated theta after Gradient Descent:',theta)\n",
    "plt.scatter(X[:,1],Y,marker='.')\n",
    "plt.plot(X[:,1],np.dot(X,theta.T))\n",
    "plt.xlabel('Sepal width')\n",
    "plt.ylabel('Sepal length')\n",
    "plt.title('Sepal length vs width of Iris-Setosa Species',color='green')\n",
    "plt.show()"
   ]
  },
  {
   "cell_type": "code",
   "execution_count": 6,
   "metadata": {
    "colab": {},
    "colab_type": "code",
    "id": "FHIGEyCExGEy"
   },
   "outputs": [
    {
     "data": {
      "text/plain": [
       "3.425265755001064"
      ]
     },
     "execution_count": 6,
     "metadata": {},
     "output_type": "execute_result"
    }
   ],
   "source": [
    "#Now if we take any value and try to predict\n",
    "\n",
    "predict(5,theta)     #intuitively should be close to the datapoint corresponding to 5.1"
   ]
  },
  {
   "cell_type": "code",
   "execution_count": null,
   "metadata": {},
   "outputs": [],
   "source": []
  }
 ],
 "metadata": {
  "colab": {
   "name": "linear-iris",
   "provenance": [],
   "version": "0.3.2"
  },
  "kernelspec": {
   "display_name": "Python 3",
   "language": "python",
   "name": "python3"
  },
  "language_info": {
   "codemirror_mode": {
    "name": "ipython",
    "version": 3
   },
   "file_extension": ".py",
   "mimetype": "text/x-python",
   "name": "python",
   "nbconvert_exporter": "python",
   "pygments_lexer": "ipython3",
   "version": "3.6.5"
  }
 },
 "nbformat": 4,
 "nbformat_minor": 1
}
